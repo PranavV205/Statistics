{
  "nbformat": 4,
  "nbformat_minor": 0,
  "metadata": {
    "colab": {
      "provenance": [],
      "authorship_tag": "ABX9TyNysEBJqbUY+syehlkwH5nE",
      "include_colab_link": true
    },
    "kernelspec": {
      "name": "python3",
      "display_name": "Python 3"
    },
    "language_info": {
      "name": "python"
    }
  },
  "cells": [
    {
      "cell_type": "markdown",
      "metadata": {
        "id": "view-in-github",
        "colab_type": "text"
      },
      "source": [
        "<a href=\"https://colab.research.google.com/github/PranavV205/Statistics/blob/main/stats1_txt.ipynb\" target=\"_parent\"><img src=\"https://colab.research.google.com/assets/colab-badge.svg\" alt=\"Open In Colab\"/></a>"
      ]
    },
    {
      "cell_type": "markdown",
      "source": [
        "## Q1. What is Statistics?\n",
        "-> \n",
        "Statistics is a branch of mathematics that deals with the collection, analysis, interpretation, presentation, and organization of data. It involves methods and techniques for gathering, summarizing, and analyzing numerical or categorical information to uncover patterns, relationships, and trends. Statistics plays a crucial role in various fields, including scientific research, social sciences, business, economics, healthcare, and many others.\n",
        "\n",
        "The main objectives of statistics are:\n",
        "\n",
        "Data Collection: Statistics involves the process of collecting data through various methods such as surveys, experiments, observations, or sampling. This step ensures that the data is relevant, reliable, and representative of the population of interest.\n",
        "\n",
        "Data Analysis: After collecting the data, statistical techniques are used to analyze and interpret it. This involves organizing and summarizing the data, performing calculations, applying statistical models, and drawing conclusions or making predictions based on the analysis.\n",
        "\n",
        "Inference and Generalization: Statistics allows researchers to make inferences and generalize findings from a smaller group (sample) to a larger population. Through the use of probability theory and inferential statistics, it is possible to estimate population parameters, test hypotheses, and make predictions.\n",
        "\n",
        "Decision Making: Statistics provides a framework for making informed decisions based on data analysis. It helps in identifying trends, patterns, and relationships, which can guide decision-making processes in various domains such as business planning, policy development, and risk assessment.\n",
        "\n",
        "Statistical concepts and methods include measures of central tendency and variability, probability theory, hypothesis testing, regression analysis, sampling techniques, data visualization, and more. By applying these tools, statisticians and data analysts can gain valuable insights, support evidence-based decision-making, and contribute to the advancement of knowledge in various fields."
      ],
      "metadata": {
        "id": "hgMfIusR2-Dp"
      }
    },
    {
      "cell_type": "markdown",
      "source": [
        "## Q2. Define the different types of statistics and give an example of when each type might be used.\n",
        "-> There are two main types of statistics: descriptive statistics and inferential statistics. Let's define each type and provide an example of when each might be used:\n",
        "\n",
        "Descriptive Statistics:\n",
        "Descriptive statistics involves summarizing and describing data using measures that characterize its central tendency, variability, and distribution. This type of statistics aims to provide a clear understanding of the dataset and its properties without making inferences to a larger population. Descriptive statistics are commonly used for data exploration and presentation.\n",
        "Example: Suppose you have collected data on the ages of a group of individuals in a community. Descriptive statistics can be used to calculate the mean age, median age, and standard deviation, providing a summary of the central age, the spread of ages, and the shape of the age distribution within that specific community.\n",
        "\n",
        "Inferential Statistics:\n",
        "Inferential statistics involves making inferences and generalizations about a population based on a sample. It uses statistical techniques to analyze sample data and draw conclusions about a larger population. Inferential statistics rely on probability theory and sampling techniques to estimate population parameters, test hypotheses, and make predictions.\n",
        "Example: Consider a pharmaceutical company testing the effectiveness of a new drug. They select a sample of patients and administer the drug, while another group receives a placebo. By comparing the outcomes of the two groups and conducting inferential statistics, the researchers can determine if the drug has a statistically significant effect on the population and make inferences about the entire population of patients.\n",
        "\n",
        "Inferential statistics allows researchers to make predictions, generalize findings, and draw conclusions beyond the specific data they have collected, providing insights into the population as a whole. It is commonly used in research studies, opinion polls, quality control analysis, and many other applications where generalizations and predictions are required.\n",
        "\n",
        "By utilizing both descriptive and inferential statistics, researchers can gain a comprehensive understanding of the dataset, describe its characteristics, and make inferences about the larger population, leading to valuable insights and informed decision-making.\n",
        "\n",
        "\n"
      ],
      "metadata": {
        "id": "BlCljcPf6C6w"
      }
    },
    {
      "cell_type": "markdown",
      "source": [
        "## Q3. What are the different types of data and how do they differ from each other? Provide an example of each type of data.\n",
        "-> Types of data\n",
        "1. Quantitative: a) Discrete: whole number [no. of members in a family] b) Continuous: any value [temp, weight, height]\n",
        "2. Qualitative(Categorical): a) Nominal(no ranking): [gender, blood groups] b) Ordinal(can assign ranks): e.g [good(1),satisfactory(2),bad(3)] "
      ],
      "metadata": {
        "id": "5N9nizaE5Kch"
      }
    },
    {
      "cell_type": "markdown",
      "source": [
        "## Q4. Categorise the following datasets with respect to quantitative and qualitative data types:\n",
        "## (i) Grading in exam: A+, A, B+, B, C+, C, D, E\n",
        "## (ii) Colour of mangoes: yellow, green, orange, red\n",
        "## (iii) Height data of a class: [178.9, 179, 179.5, 176, 177.2, 178.3, 175.8,...]\n",
        "## (iv) Number of mangoes exported by a farm: [500, 600, 478, 672, ...]\n",
        "\n",
        "-> \n",
        "1. Categorical - Ordinal\n",
        "2. Categorical - Nominal\n",
        "3. Quantitative - Continuous\n",
        "4. Quantitative - Discrete "
      ],
      "metadata": {
        "id": "6Y69nSAd_zMr"
      }
    },
    {
      "cell_type": "markdown",
      "source": [
        "## Q5. Explain the concept of levels of measurement and give an example of a variable for each level.\n",
        "-> There are 4 levels of measurement:\n",
        "\n",
        "1. Nominal: the data can only be categorized\n",
        "2. Ordinal: the data can be categorized and ranked\n",
        "3. Interval: the data can be categorized, ranked, and evenly spaced\n",
        "4. Ratio: the data can be categorized, ranked, evenly spaced, and has a natural zero.\n",
        "\n",
        "There is a hierarchy in the complexity and precision of the level of measurement, from low (nominal) to high (ratio).\n",
        "\n",
        "1. Nominal: You can categorize your data by labelling them in mutually exclusive groups, but there is no order between the categories. e.g City of birth, Gender, Ethnicity, Car brands, Marital status\n",
        "2. Ordinal: You can categorize and rank your data in an order, but you cannot say anything about the intervals between the rankings.\n",
        "Although you can rank the top 5 Olympic medallists, this scale does not tell you how close or far apart they are in number of wins. e.g Top 5 Olympic medallists, Language ability (e.g., beginner, intermediate, fluent), Likert-type questions  (e.g., very dissatisfied to very satisfied)\n",
        "3. Interval: You can categorize, rank, and infer equal intervals between neighboring data points, but there is no true zero point.\n",
        "The difference between any two adjacent temperatures is the same: one degree. But  zero degrees is defined differently depending on the scale – it doesn’t mean an absolute absence of temperature.\n",
        "The same is true for test scores and personality inventories. A zero on a test is arbitrary; it does not mean that the test-taker has an absolute lack of the trait being measured. e.g Test scores (e.g., IQ or exams), Personality inventories, Temperature in Fahrenheit or Celsius\n",
        "4. Ratio: You can categorize, rank, and infer equal intervals between neighboring data points, and there is a true zero point.\n",
        "A true zero means there is an absence of the variable of interest. In ratio scales, zero does mean an absolute lack of the variable.\n",
        "For example, in the Kelvin temperature scale, there are no negative degrees of temperature – zero means an absolute lack of thermal energy. e.g Height, Age, Weight, Temperature in Kelvin\n"
      ],
      "metadata": {
        "id": "d-lbVQZrdwPZ"
      }
    },
    {
      "cell_type": "markdown",
      "source": [
        "## Q6. Why is it important to understand the level of measurement when analyzing data? Provide an example to illustrate your answer.\n",
        "-> Levels of measurement are important because they indicate the extent to which statisticians, marketing analysts and financial analysts can use existing data. For instance, if you classify your data at the ordinal level of measurement, you know that you can evaluate how items compare to each other based on a specific hierarchy. If you wanted to analyze the exact distance between items rather than understand only how they compare to one another, you might want to rely on data at the interval level of measurement. Understanding levels of measurement can also help you properly plan your research. For instance, if you want to gather data with a true zero point, you can invest the appropriate resources to go beyond nominal data and gather data that adheres to the ratio level of measurement. The levels of data measurement are also important for providing insight into how to present research findings. For instance, when applying interval measurement, you might present your data in charts or graphs, whereas ratio measurement might use mathematical equations."
      ],
      "metadata": {
        "id": "ll0rNqq6fEAh"
      }
    },
    {
      "cell_type": "markdown",
      "source": [
        "## Q7. How nominal data type is different from ordinal data type.\n",
        "-> The most fundamental difference between nominal and ordinal data is the presence (or absence) of an order or hierarchy. Nominal data consists of categories that serve as simple labels; they don’t imply any order. On the other hand, ordinal data not only categorizes the subjects but also conveys some form of ranking or order among these categories.\n"
      ],
      "metadata": {
        "id": "RfGaTF19fYqf"
      }
    },
    {
      "cell_type": "markdown",
      "source": [
        "## Q8. Which type of plot can be used to display data in terms of range?"
      ],
      "metadata": {
        "id": "yb00pZbZfjE3"
      }
    },
    {
      "cell_type": "markdown",
      "source": [
        "## Q9. Describe the difference between descriptive and inferential statistics. Give an example of eachtype of statistics and explain how they are used.\n",
        "->\n",
        "1. Descriptive Statistics:\n",
        "Descriptive statistics involve summarizing and describing the main features of a dataset. They provide a concise and meaningful summary of the data, helping to understand its characteristics without making inferences or drawing conclusions beyond the given dataset. Descriptive statistics are primarily concerned with organizing, presenting, and analyzing the data to describe its central tendency, dispersion, and shape.\n",
        "\n",
        "Example: Let's say you have collected data on the heights of a group of students in your class. To describe the data descriptively, you would calculate measures such as the mean height, median height, and standard deviation. These summary statistics would provide a clear understanding of the average height, the spread of heights, and the overall shape of the distribution within your class.\n",
        "\n",
        "2. Inferential Statistics:\n",
        "Inferential statistics, on the other hand, involve making inferences or generalizations about a population based on a sample. It uses data from a smaller group (sample) to draw conclusions about a larger group (population). Inferential statistics utilize probability theory and sampling techniques to estimate population parameters and test hypotheses.\n",
        "\n",
        "Example: Suppose you are interested in determining whether there is a significant difference in the average heights of male and female students in your school. You collect a sample of heights from both groups and perform a hypothesis test, such as a t-test. By analyzing the data inferentially, you can make conclusions about the entire population of male and female students based on the sample data. For instance, you may conclude that there is a statistically significant difference in the average heights between the two genders.\n",
        "\n",
        "Inferential statistics allows researchers to make predictions, generalize findings, and draw conclusions beyond the specific data they have collected, providing insights into the population as a whole. It plays a crucial role in various fields, including medical research, social sciences, market research, and more."
      ],
      "metadata": {
        "id": "xHZiZPbAf7LP"
      }
    },
    {
      "cell_type": "markdown",
      "source": [
        "## Q10. What are some common measures of central tendency and variability used in statistics? Explain how each measure can be used to describe a dataset.\n",
        "-> \n",
        "\n",
        "Measures of Central Tendency:\n",
        "1. Mean: The mean is the arithmetic average of a dataset. It is calculated by summing all the values and dividing by the total number of observations. The mean provides a measure of the typical or average value in the dataset. It is sensitive to extreme values and is commonly used when the data is normally distributed or symmetrical.\n",
        "\n",
        "2. Median: The median is the middle value in a dataset when the values are arranged in ascending or descending order. If the dataset has an odd number of observations, the median is the middle value. If the dataset has an even number of observations, the median is the average of the two middle values. The median is useful when there are outliers or the data is skewed, as it is less affected by extreme values.\n",
        "\n",
        "3. Mode: The mode is the value or values that appear most frequently in a dataset. It represents the most common or typical value(s) in the data. The mode is useful for categorical or discrete data and can be used to identify the peak(s) in a distribution.\n",
        "\n",
        "Measures of Variability:\n",
        "1. Range: The range is the difference between the maximum and minimum values in a dataset. It provides a simple measure of the spread or dispersion of the data. However, it only considers the extreme values and does not account for the entire dataset.\n",
        "\n",
        "2. Variance: Variance measures the average squared deviation from the mean. It quantifies the spread or dispersion of the data by considering all the values in the dataset. A higher variance indicates greater variability in the data.\n",
        "\n",
        "3. Standard Deviation: The standard deviation is the square root of the variance. It provides a measure of the average distance between each data point and the mean. The standard deviation is widely used as it is expressed in the same units as the original data, making it easier to interpret and compare.\n",
        "\n",
        "4. Interquartile Range (IQR): The IQR is the range of the middle 50% of the data, specifically the difference between the third quartile (Q3) and the first quartile (Q1). It is less sensitive to outliers and provides a measure of the spread of the central portion of the dataset.\n",
        "\n",
        "These measures of central tendency and variability help summarize and describe various aspects of a dataset, such as its typical value, spread, and overall distribution. By utilizing these measures, statisticians can gain insights into the characteristics and behavior of the data, making it easier to interpret and draw conclusions."
      ],
      "metadata": {
        "id": "w9zxtm9bgt9-"
      }
    }
  ]
}